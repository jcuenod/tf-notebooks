{
 "cells": [
  {
   "cell_type": "code",
   "execution_count": 1,
   "metadata": {
    "collapsed": false,
    "deletable": true,
    "editable": true
   },
   "outputs": [
    {
     "name": "stdout",
     "output_type": "stream",
     "text": [
      "This is Text-Fabric 2.3.2\n",
      "Api reference : https://github.com/ETCBC/text-fabric/wiki/Api\n",
      "Tutorial      : https://github.com/ETCBC/text-fabric/blob/master/docs/tutorial.ipynb\n",
      "Data sources  : https://github.com/ETCBC/text-fabric-data\n",
      "Data docs     : https://etcbc.github.io/text-fabric-data\n",
      "Shebanq docs  : https://shebanq.ancient-data.org/text\n",
      "Slack team    : https://shebanq.slack.com/signup\n",
      "Questions? Ask shebanq@ancient-data.org for an invite to Slack\n",
      "114 features found and 0 ignored\n",
      "  0.00s loading features ...\n",
      "   |     0.18s B otype                from /home/jcuenod/Programming/text-fabric-data/hebrew/etcbc4c\n",
      "   |     0.04s B book                 from /home/jcuenod/Programming/text-fabric-data/hebrew/etcbc4c\n",
      "   |     0.09s B chapter              from /home/jcuenod/Programming/text-fabric-data/hebrew/etcbc4c\n",
      "   |     0.07s B verse                from /home/jcuenod/Programming/text-fabric-data/hebrew/etcbc4c\n",
      "   |     0.72s B g_cons_utf8          from /home/jcuenod/Programming/text-fabric-data/hebrew/etcbc4c\n",
      "   |     3.57s B g_word_utf8          from /home/jcuenod/Programming/text-fabric-data/hebrew/etcbc4c\n",
      "   |     1.04s B lex_utf8             from /home/jcuenod/Programming/text-fabric-data/hebrew/etcbc4c\n",
      "   |     0.21s B trailer_utf8         from /home/jcuenod/Programming/text-fabric-data/hebrew/etcbc4c\n",
      "   |     1.89s B sp                   from /home/jcuenod/Programming/text-fabric-data/hebrew/etcbc4c\n",
      "   |     1.27s B nu                   from /home/jcuenod/Programming/text-fabric-data/hebrew/etcbc4c\n",
      "   |     0.31s B gn                   from /home/jcuenod/Programming/text-fabric-data/hebrew/etcbc4c\n",
      "   |     0.24s B ps                   from /home/jcuenod/Programming/text-fabric-data/hebrew/etcbc4c\n",
      "   |     0.14s B vt                   from /home/jcuenod/Programming/text-fabric-data/hebrew/etcbc4c\n",
      "   |     0.15s B vs                   from /home/jcuenod/Programming/text-fabric-data/hebrew/etcbc4c\n",
      "   |     0.27s B st                   from /home/jcuenod/Programming/text-fabric-data/hebrew/etcbc4c\n",
      "   |     0.23s B language             from /home/jcuenod/Programming/text-fabric-data/hebrew/etcbc4c\n",
      "   |     0.09s B gloss                from /home/jcuenod/Programming/text-fabric-data/hebrew/etcbc4c\n",
      "   |     0.29s B g_prs_utf8           from /home/jcuenod/Programming/text-fabric-data/hebrew/etcbc4c\n",
      "   |     0.19s B g_uvf_utf8           from /home/jcuenod/Programming/text-fabric-data/hebrew/etcbc4c\n",
      "   |     0.35s B det                  from /home/jcuenod/Programming/text-fabric-data/hebrew/etcbc4c\n",
      "   |     1.94s B lex                  from /home/jcuenod/Programming/text-fabric-data/hebrew/etcbc4c\n",
      "   |     0.25s B prs_gn               from /home/jcuenod/Programming/text-fabric-data/hebrew/etcbc4c\n",
      "   |     0.17s B prs_nu               from /home/jcuenod/Programming/text-fabric-data/hebrew/etcbc4c\n",
      "   |     0.13s B prs_ps               from /home/jcuenod/Programming/text-fabric-data/hebrew/etcbc4c\n",
      "   |     0.00s Feature overview: 108 nodes; 5 edges; 1 configs; 7 computeds\n",
      "    48s All features loaded/computed - for details use loadLog()\n"
     ]
    }
   ],
   "source": [
    "from tf.fabric import Fabric\n",
    "\n",
    "TF = Fabric(locations='../text-fabric-data', modules='hebrew/etcbc4c')\n",
    "api = TF.load('''\n",
    "\tsp nu gn ps vt vs st\n",
    "\totype\n",
    "\t lex_utf8\n",
    "\tlanguage gloss\n",
    "\tchapter verse\n",
    "\tg_prs_utf8 g_uvf_utf8\n",
    "\tdet book chapter verse\n",
    "\n",
    "\ttrailer_utf8 g_word_utf8 lex\n",
    "\tprs_gn prs_nu prs_ps g_cons_utf8\n",
    "''')\n",
    "api.makeAvailableIn(globals())"
   ]
  },
  {
   "cell_type": "code",
   "execution_count": 2,
   "metadata": {
    "collapsed": false,
    "deletable": true,
    "editable": true
   },
   "outputs": [
    {
     "name": "stdout",
     "output_type": "stream",
     "text": [
      "10 \t:  לא\n",
      "5 \t:  רב\n",
      "5 \t:  הוא\n",
      "4 \t:  אישׁ\n",
      "4 \t:  פה\n",
      "4 \t:  ראה\n",
      "4 \t:  יהוה\n",
      "4 \t:  פנה\n",
      "4 \t:  פשׁע\n",
      "3 \t:  נשׂא\n",
      "3 \t:  מי\n",
      "3 \t:  עונ\n",
      "3 \t:  נפשׁ\n",
      "2 \t:  עבד\n",
      "2 \t:  כנ\n",
      "2 \t:  מראה\n",
      "2 \t:  תאר\n",
      "2 \t:  ארצ\n",
      "2 \t:  בזה\n",
      "2 \t:  מכאוב\n",
      "2 \t:  חלי\n",
      "2 \t:  חשׁב\n",
      "2 \t:  סבל\n",
      "2 \t:  נגע\n",
      "2 \t:  ענה\n",
      "2 \t:  דכא\n",
      "2 \t:  כל\n",
      "2 \t:  פגע\n",
      "2 \t:  פתח\n",
      "2 \t:  מות\n",
      "2 \t:  חפצ\n",
      "2 \t:  חלק\n"
     ]
    }
   ],
   "source": [
    "servantSongNodes = L.d(T.nodeFromSection((\"Isaiah\", 52, 13)), otype='word') + \\\n",
    "    L.d(T.nodeFromSection((\"Isaiah\", 52, 14)), otype='word') + \\\n",
    "    L.d(T.nodeFromSection((\"Isaiah\", 52, 15)), otype='word') + \\\n",
    "    L.d(T.nodeFromSection((\"Isaiah\", 53)), otype='word')\n",
    "words = {}\n",
    "for n in servantSongNodes:\n",
    "    if F.sp.v(n) in [\"prep\", \"art\", \"conj\"]:\n",
    "        continue\n",
    "    lex = F.lex_utf8.v(n) # not disambiguated\n",
    "    if lex in words:\n",
    "        words[lex] += 1\n",
    "    else:\n",
    "        words[lex] = 1\n",
    "#filter > 1\n",
    "fwords = {k: v for k, v in words.items() if v > 1}\n",
    "# order desc\n",
    "swords = [(k, fwords[k]) for k in sorted(fwords, key=fwords.get, reverse=True)]\n",
    "for k, v in swords:\n",
    "    print(v, \"\\t: \", k)\n",
    "\n",
    "# to do: exclude prepositions / conjunctions etc."
   ]
  },
  {
   "cell_type": "code",
   "execution_count": 3,
   "metadata": {
    "collapsed": false,
    "deletable": true,
    "editable": true
   },
   "outputs": [],
   "source": [
    "toDisplay = \"<div class='verse'>\"\n",
    "ref = None\n",
    "for n in servantSongNodes:\n",
    "    if T.sectionFromNode(n) != ref:\n",
    "        ref = T.sectionFromNode(n)\n",
    "        toDisplay += \"</div><div class='verse'>\" + \"<span class='ref'>{1}:{2}</span> \".format(*ref)\n",
    "    toDisplay += \"<span class='\" + F.vt.v(n) + \"'>\" + F.g_word_utf8.v(n) + \"</span>\" + F.trailer_utf8.v(n)\n",
    "toDisplay += \"</div>\""
   ]
  },
  {
   "cell_type": "code",
   "execution_count": 4,
   "metadata": {
    "collapsed": false,
    "deletable": true,
    "editable": true
   },
   "outputs": [
    {
     "data": {
      "text/html": [
       "\n",
       "<style type='text/css'>\n",
       ".verse {\n",
       "    font-family: SBL Hebrew;\n",
       "    line-height: 150%;\n",
       "    font-size: 17px;\n",
       "}\n",
       ".perf {\n",
       "    color: orange;\n",
       "}\n",
       ".impf {\n",
       "    color: cyan;\n",
       "}\n",
       ".wayq {\n",
       "    color: red;\n",
       "}\n",
       ".ptca, .ptcb {\n",
       "    color: blue;\n",
       "}\n",
       ".infa, .infb, .impv {\n",
       "    color: green;\n",
       "}\n",
       "span.ref {\n",
       "    width: 30px;\n",
       "    display: inline-block;\n",
       "    font-size: 10px\n",
       "}\n",
       "</style>\n",
       "<div class='verse'></div><div class='verse'><span class='ref'>52:13</span> <span class='NA'>הִנֵּ֥ה</span> <span class='impf'>יַשְׂכִּ֖יל</span> <span class='NA'>עַבְדִּ֑י</span> <span class='impf'>יָר֧וּם</span> <span class='NA'>וְ</span><span class='perf'>נִשָּׂ֛א</span> <span class='NA'>וְ</span><span class='perf'>גָבַ֖הּ</span> <span class='NA'>מְאֹֽד</span>׃ </div><div class='verse'><span class='ref'>52:14</span> <span class='NA'>כַּ</span><span class='NA'>אֲשֶׁ֨ר</span> <span class='perf'>שָׁמְמ֤וּ</span> <span class='NA'>עָלֶ֨יךָ֙</span> <span class='NA'>רַבִּ֔ים</span> <span class='NA'>כֵּן</span>־<span class='NA'>מִשְׁחַ֥ת</span> <span class='NA'>מֵ</span><span class='NA'>אִ֖ישׁ</span> <span class='NA'>מַרְאֵ֑הוּ</span> <span class='NA'>וְ</span><span class='NA'>תֹאֲרֹ֖ו</span> <span class='NA'>מִ</span><span class='NA'>בְּנֵ֥י</span> <span class='NA'>אָדָֽם</span>׃ </div><div class='verse'><span class='ref'>52:15</span> <span class='NA'>כֵּ֤ן</span> <span class='impf'>יַזֶּה֙</span> <span class='NA'>גֹּויִ֣ם</span> <span class='NA'>רַבִּ֔ים</span> <span class='NA'>עָלָ֛יו</span> <span class='impf'>יִקְפְּצ֥וּ</span> <span class='NA'>מְלָכִ֖ים</span> <span class='NA'>פִּיהֶ֑ם</span> <span class='NA'>כִּ֠י</span> <span class='NA'>אֲשֶׁ֨ר</span> <span class='NA'>לֹֽא</span>־<span class='perf'>סֻפַּ֤ר</span> <span class='NA'>לָהֶם֙</span> <span class='perf'>רָא֔וּ</span> <span class='NA'>וַ</span><span class='NA'>אֲשֶׁ֥ר</span> <span class='NA'>לֹֽא</span>־<span class='perf'>שָׁמְע֖וּ</span> <span class='perf'>הִתְבֹּונָֽנוּ</span>׃ </div><div class='verse'><span class='ref'>53:1</span> <span class='NA'>מִ֥י</span> <span class='perf'>הֶאֱמִ֖ין</span> <span class='NA'>לִ</span><span class='NA'>שְׁמֻעָתֵ֑נוּ</span> <span class='NA'>וּ</span><span class='NA'>זְרֹ֥ועַ</span> <span class='NA'>יְהוָ֖ה</span> <span class='NA'>עַל</span>־<span class='NA'>מִ֥י</span> <span class='perf'>נִגְלָֽתָה</span>׃ </div><div class='verse'><span class='ref'>53:2</span> <span class='NA'>וַ</span><span class='wayq'>יַּ֨עַל</span> <span class='NA'>כַּ</span><span class='NA'></span><span class='NA'>יֹּונֵ֜ק</span> <span class='NA'>לְ</span><span class='NA'>פָנָ֗יו</span> <span class='NA'>וְ</span><span class='NA'>כַ</span><span class='NA'></span><span class='NA'>שֹּׁ֨רֶשׁ֙</span> <span class='NA'>מֵ</span><span class='NA'>אֶ֣רֶץ</span> <span class='NA'>צִיָּ֔ה</span> <span class='NA'>לֹא</span>־<span class='NA'>תֹ֥אַר</span> <span class='NA'>לֹ֖ו</span> <span class='NA'>וְ</span><span class='NA'>לֹ֣א</span> <span class='NA'>הָדָ֑ר</span> <span class='NA'>וְ</span><span class='impf'>נִרְאֵ֥הוּ</span> <span class='NA'>וְ</span><span class='NA'>לֹֽא</span>־<span class='NA'>מַרְאֶ֖ה</span> <span class='NA'>וְ</span><span class='impf'>נֶחְמְדֵֽהוּ</span>׃ </div><div class='verse'><span class='ref'>53:3</span> <span class='ptca'>נִבְזֶה֙</span> <span class='NA'>וַ</span><span class='NA'>חֲדַ֣ל</span> <span class='NA'>אִישִׁ֔ים</span> <span class='NA'>אִ֥ישׁ</span> <span class='NA'>מַכְאֹבֹ֖ות</span> <span class='NA'>וִ</span><span class='ptcp'>יד֣וּעַ</span> <span class='NA'>חֹ֑לִי</span> <span class='NA'>וּ</span><span class='NA'>כְ</span><span class='NA'>מַסְתֵּ֤ר</span> <span class='NA'>פָּנִים֙</span> <span class='NA'>מִמֶּ֔נּוּ</span> <span class='ptca'>נִבְזֶ֖ה</span> <span class='NA'>וְ</span><span class='NA'>לֹ֥א</span> <span class='perf'>חֲשַׁבְנֻֽהוּ</span>׃ </div><div class='verse'><span class='ref'>53:4</span> <span class='NA'>אָכֵ֤ן</span> <span class='NA'>חֳלָיֵ֨נוּ֙</span> <span class='NA'>ה֣וּא</span> <span class='perf'>נָשָׂ֔א</span> <span class='NA'>וּ</span><span class='NA'>מַכְאֹבֵ֖ינוּ</span> <span class='perf'>סְבָלָ֑ם</span> <span class='NA'>וַ</span><span class='NA'>אֲנַ֣חְנוּ</span> <span class='perf'>חֲשַׁבְנֻ֔הוּ</span> <span class='ptcp'>נָג֛וּעַ</span> <span class='ptcp'>מֻכֵּ֥ה</span> <span class='NA'>אֱלֹהִ֖ים</span> <span class='NA'>וּ</span><span class='ptcp'>מְעֻנֶּֽה</span>׃ </div><div class='verse'><span class='ref'>53:5</span> <span class='NA'>וְ</span><span class='NA'>הוּא֙</span> <span class='ptcp'>מְחֹלָ֣ל</span> <span class='NA'>מִ</span><span class='NA'>פְּשָׁעֵ֔נוּ</span> <span class='ptcp'>מְדֻכָּ֖א</span> <span class='NA'>מֵ</span><span class='NA'>עֲוֹנֹתֵ֑ינוּ</span> <span class='NA'>מוּסַ֤ר</span> <span class='NA'>שְׁלֹומֵ֨נוּ֙</span> <span class='NA'>עָלָ֔יו</span> <span class='NA'>וּ</span><span class='NA'>בַ</span><span class='NA'>חֲבֻרָתֹ֖ו</span> <span class='perf'>נִרְפָּא</span>־<span class='NA'>לָֽנוּ</span>׃ </div><div class='verse'><span class='ref'>53:6</span> <span class='NA'>כֻּלָּ֨נוּ֙</span> <span class='NA'>כַּ</span><span class='NA'></span><span class='NA'>צֹּ֣אן</span> <span class='perf'>תָּעִ֔ינוּ</span> <span class='NA'>אִ֥ישׁ</span> <span class='NA'>לְ</span><span class='NA'>דַרְכֹּ֖ו</span> <span class='perf'>פָּנִ֑ינוּ</span> <span class='NA'>וַֽ</span><span class='NA'>יהוָה֙</span> <span class='perf'>הִפְגִּ֣יעַ</span> <span class='NA'>בֹּ֔ו</span> <span class='NA'>אֵ֖ת</span> <span class='NA'>עֲוֹ֥ן</span> <span class='NA'>כֻּלָּֽנוּ</span>׃ </div><div class='verse'><span class='ref'>53:7</span> <span class='perf'>נִגַּ֨שׂ</span> <span class='NA'>וְ</span><span class='NA'>ה֣וּא</span> <span class='ptca'>נַעֲנֶה֮</span> <span class='NA'>וְ</span><span class='NA'>לֹ֣א</span> <span class='impf'>יִפְתַּח</span>־<span class='NA'>פִּיו֒</span> <span class='NA'>כַּ</span><span class='NA'></span><span class='NA'>שֶּׂה֙</span> <span class='NA'>לַ</span><span class='NA'></span><span class='NA'>טֶּ֣בַח</span> <span class='impf'>יוּבָ֔ל</span> <span class='NA'>וּ</span><span class='NA'>כְ</span><span class='NA'>רָחֵ֕ל</span> <span class='NA'>לִ</span><span class='NA'>פְנֵ֥י</span> <span class='ptca'>גֹזְזֶ֖יהָ</span> <span class='perf'>נֶאֱלָ֑מָה</span> <span class='NA'>וְ</span><span class='NA'>לֹ֥א</span> <span class='impf'>יִפְתַּ֖ח</span> <span class='NA'>פִּֽיו</span>׃ </div><div class='verse'><span class='ref'>53:8</span> <span class='NA'>מֵ</span><span class='NA'>עֹ֤צֶר</span> <span class='NA'>וּ</span><span class='NA'>מִ</span><span class='NA'>מִּשְׁפָּט֙</span> <span class='perf'>לֻקָּ֔ח</span> <span class='NA'>וְ</span><span class='NA'>אֶת</span>־<span class='NA'>דֹּורֹ֖ו</span> <span class='NA'>מִ֣י</span> <span class='impf'>יְשֹׂוחֵ֑חַ</span> <span class='NA'>כִּ֤י</span> <span class='perf'>נִגְזַר֙</span> <span class='NA'>מֵ</span><span class='NA'>אֶ֣רֶץ</span> <span class='NA'>חַיִּ֔ים</span> <span class='NA'>מִ</span><span class='NA'>פֶּ֥שַׁע</span> <span class='NA'>עַמִּ֖י</span> <span class='NA'>נֶ֥גַע</span> <span class='NA'>לָֽמֹו</span>׃ </div><div class='verse'><span class='ref'>53:9</span> <span class='NA'>וַ</span><span class='wayq'>יִּתֵּ֤ן</span> <span class='NA'>אֶת</span>־<span class='NA'>רְשָׁעִים֙</span> <span class='NA'>קִבְרֹ֔ו</span> <span class='NA'>וְ</span><span class='NA'>אֶת</span>־<span class='NA'>עָשִׁ֖יר</span> <span class='NA'>בְּ</span><span class='NA'>מֹתָ֑יו</span> <span class='NA'>עַ֚ל</span> <span class='NA'>לֹא</span>־<span class='NA'>חָמָ֣ס</span> <span class='perf'>עָשָׂ֔ה</span> <span class='NA'>וְ</span><span class='NA'>לֹ֥א</span> <span class='NA'>מִרְמָ֖ה</span> <span class='NA'>בְּ</span><span class='NA'>פִֽיו</span>׃ </div><div class='verse'><span class='ref'>53:10</span> <span class='NA'>וַ</span><span class='NA'>יהוָ֞ה</span> <span class='perf'>חָפֵ֤ץ</span> <span class='infc'>דַּכְּאֹו֙</span> <span class='perf'>הֶֽחֱלִ֔י</span> <span class='NA'>אִם</span>־<span class='impf'>תָּשִׂ֤ים</span> <span class='NA'>אָשָׁם֙</span> <span class='NA'>נַפְשֹׁ֔ו</span> <span class='impf'>יִרְאֶ֥ה</span> <span class='NA'>זֶ֖רַע</span> <span class='impf'>יַאֲרִ֣יךְ</span> <span class='NA'>יָמִ֑ים</span> <span class='NA'>וְ</span><span class='NA'>חֵ֥פֶץ</span> <span class='NA'>יְהוָ֖ה</span> <span class='NA'>בְּ</span><span class='NA'>יָדֹ֥ו</span> <span class='impf'>יִצְלָֽח</span>׃ </div><div class='verse'><span class='ref'>53:11</span> <span class='NA'>מֵ</span><span class='NA'>עֲמַ֤ל</span> <span class='NA'>נַפְשֹׁו֙</span> <span class='impf'>יִרְאֶ֣ה</span> <span class='impf'>יִשְׂבָּ֔ע</span> <span class='NA'>בְּ</span><span class='NA'>דַעְתֹּ֗ו</span> <span class='impf'>יַצְדִּ֥יק</span> <span class='NA'>צַדִּ֛יק</span> <span class='NA'>עַבְדִּ֖י</span> <span class='NA'>לָֽ</span><span class='NA'></span><span class='NA'>רַבִּ֑ים</span> <span class='NA'>וַ</span><span class='NA'>עֲוֹנֹתָ֖ם</span> <span class='NA'>ה֥וּא</span> <span class='impf'>יִסְבֹּֽל</span>׃ </div><div class='verse'><span class='ref'>53:12</span> <span class='NA'>לָכֵ֞ן</span> <span class='impf'>אֲחַלֶּק</span>־<span class='NA'>לֹ֣ו</span> <span class='NA'>בָ</span><span class='NA'></span><span class='NA'>רַבִּ֗ים</span> <span class='NA'>וְ</span><span class='NA'>אֶת</span>־<span class='NA'>עֲצוּמִים֮</span> <span class='impf'>יְחַלֵּ֣ק</span> <span class='NA'>שָׁלָל֒</span> <span class='NA'>תַּ֗חַת</span> <span class='NA'>אֲשֶׁ֨ר</span> <span class='perf'>הֶעֱרָ֤ה</span> <span class='NA'>לַ</span><span class='NA'></span><span class='NA'>מָּ֨וֶת֙</span> <span class='NA'>נַפְשֹׁ֔ו</span> <span class='NA'>וְ</span><span class='NA'>אֶת</span>־<span class='ptca'>פֹּשְׁעִ֖ים</span> <span class='perf'>נִמְנָ֑ה</span> <span class='NA'>וְ</span><span class='NA'>הוּא֙</span> <span class='NA'>חֵטְא</span>־<span class='NA'>רַבִּ֣ים</span> <span class='perf'>נָשָׂ֔א</span> <span class='NA'>וְ</span><span class='NA'>לַ</span><span class='NA'></span><span class='ptca'>פֹּשְׁעִ֖ים</span> <span class='impf'>יַפְגִּֽיעַ</span>׃ ס </div>"
      ],
      "text/plain": [
       "<IPython.core.display.HTML object>"
      ]
     },
     "execution_count": 4,
     "metadata": {},
     "output_type": "execute_result"
    }
   ],
   "source": [
    "from IPython.display import HTML\n",
    "toDisplayWCss = '''\n",
    "<style type='text/css'>\n",
    ".verse {\n",
    "    font-family: SBL Hebrew;\n",
    "    line-height: 150%;\n",
    "    font-size: 17px;\n",
    "}\n",
    ".perf {\n",
    "    color: orange;\n",
    "}\n",
    ".impf {\n",
    "    color: cyan;\n",
    "}\n",
    ".wayq {\n",
    "    color: red;\n",
    "}\n",
    ".ptca, .ptcb {\n",
    "    color: blue;\n",
    "}\n",
    ".infa, .infb, .impv {\n",
    "    color: green;\n",
    "}\n",
    "span.ref {\n",
    "    width: 30px;\n",
    "    display: inline-block;\n",
    "    font-size: 10px\n",
    "}\n",
    "</style>\n",
    "''' + toDisplay\n",
    "HTML(toDisplayWCss)"
   ]
  },
  {
   "cell_type": "code",
   "execution_count": null,
   "metadata": {
    "collapsed": true,
    "deletable": true,
    "editable": true
   },
   "outputs": [],
   "source": []
  }
 ],
 "metadata": {
  "kernelspec": {
   "display_name": "Python 3",
   "language": "python",
   "name": "python3"
  },
  "language_info": {
   "codemirror_mode": {
    "name": "ipython",
    "version": 3
   },
   "file_extension": ".py",
   "mimetype": "text/x-python",
   "name": "python",
   "nbconvert_exporter": "python",
   "pygments_lexer": "ipython3",
   "version": "3.6.0"
  }
 },
 "nbformat": 4,
 "nbformat_minor": 2
}
