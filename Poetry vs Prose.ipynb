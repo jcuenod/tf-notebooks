{
 "cells": [
  {
   "cell_type": "code",
   "execution_count": null,
   "metadata": {
    "collapsed": false
   },
   "outputs": [],
   "source": [
    "import sys, os, collections\n",
    "from tf.fabric import Fabric\n",
    "DATABASE = '~/Programming/tf-github'\n",
    "BHSA = 'bhsa/tf/2017'\n",
    "TF = Fabric(locations=[DATABASE], modules=[BHSA], silent=False)\n",
    "\n",
    "api = TF.load('''\n",
    "    vt lex domain\n",
    "    book chapter verse\n",
    "    sp freq_lex\n",
    "    kind rela\n",
    "''')\n",
    "api.makeAvailableIn(globals())"
   ]
  },
  {
   "cell_type": "markdown",
   "metadata": {},
   "source": [
    "This is just about setting up some basic functions we will use later"
   ]
  },
  {
   "cell_type": "code",
   "execution_count": 2,
   "metadata": {
    "collapsed": false
   },
   "outputs": [],
   "source": [
    "import verbs\n",
    "scope = [\"Genesis\", \"Exodus\", \"Leviticus\", \"Numbers\", \"Deuteronomy\", \"1_Samuel\", \"2_Samuel\", \"Psalms\", \"Proverbs\"]\n",
    "def inScope(node):\n",
    "    book, chapter, verse = T.sectionFromNode(node)\n",
    "    return book in scope\n",
    "\n",
    "def isPoetry(node):\n",
    "    book, chapter, verse = T.sectionFromNode(node)\n",
    "    if book == \"Psalms\" or book == \"Proverbs\":\n",
    "        return True\n",
    "    elif book == \"Genesis\":\n",
    "        if chapter == 49 and verse > 1 and verse < 28:\n",
    "            return True\n",
    "    elif book == \"Exodus\":\n",
    "        if chapter == 15 and verse < 19:\n",
    "            return True\n",
    "    elif book == \"Numbers\":\n",
    "        if chapter == 21 and verse in [15, 18, 27, 28, 29, 30]:\n",
    "            return True\n",
    "        if chapter == 23 and ((verse > 6 and verse < 11) or (verse > 17 and verse < 24)):\n",
    "            return True\n",
    "        if chapter == 24 and ((verse > 2 and verse < 10) or (verse > 14 and verse < 25)):\n",
    "            return True\n",
    "    elif book == \"Deuteronomy\":\n",
    "        if chapter == 28 and ((verse > 2 and verse < 7) or (verse > 15 and verse < 20)):\n",
    "            return True\n",
    "        if chapter == 32 and verse < 44:\n",
    "            return True\n",
    "        if chapter == 33:\n",
    "            return True\n",
    "    \n",
    "\n",
    "# scopes = []\n",
    "# for w in F.otype.s('word'):\n",
    "#     book, chapter, verse = T.sectionFromNode(w)\n",
    "#     if book in scopes:\n",
    "#         continue\n",
    "#     print(book)\n",
    "#     scopes.append(book)"
   ]
  },
  {
   "cell_type": "markdown",
   "metadata": {},
   "source": [
    "Now we're going to compare prose and poetry at a word level"
   ]
  },
  {
   "cell_type": "code",
   "execution_count": 3,
   "metadata": {
    "collapsed": false
   },
   "outputs": [
    {
     "name": "stdout",
     "output_type": "stream",
     "text": [
      "25000\n",
      "50000\n",
      "75000\n",
      "100000\n",
      "125000\n",
      "150000\n",
      "175000\n",
      "200000\n",
      "225000\n",
      "250000\n",
      "275000\n",
      "300000\n",
      "325000\n",
      "350000\n",
      "375000\n",
      "400000\n",
      "425000\n",
      "done\n"
     ]
    }
   ],
   "source": [
    "counter = 0\n",
    "\n",
    "attribute_tally = {\n",
    "    \"poetry\": {\n",
    "        \"verb_tenses\": {},\n",
    "        \"words\": 0,\n",
    "        \"rare\": 0\n",
    "    },\n",
    "    \"prose\": {\n",
    "        \"verb_tenses\": {},\n",
    "        \"words\": 0,\n",
    "        \"rare\": 0\n",
    "    }\n",
    "}\n",
    "progress = 0\n",
    "for w in F.otype.s('word'):\n",
    "    progress += 1\n",
    "    if progress % 25000 == 0:\n",
    "        print(progress)\n",
    "    if inScope(w):\n",
    "        form = \"poetry\" if isPoetry(w) else \"prose\"\n",
    "        attribute_tally[form][\"words\"] += 1\n",
    "        \n",
    "        # Add to sp tally\n",
    "        sp = F.sp.v(w)\n",
    "        if sp + \"_count\" not in attribute_tally[form]:\n",
    "            attribute_tally[form][sp + \"_count\"] = 0\n",
    "        attribute_tally[form][sp + \"_count\"] += 1\n",
    "        \n",
    "        # Add vt to tally\n",
    "        if F.sp.v(w) == \"verb\":\n",
    "            vt = F.vt.v(w) if not verbs.is_weqt(w) else \"weqt\"\n",
    "            if vt + \"_count\" not in attribute_tally[form][\"verb_tenses\"]:\n",
    "                attribute_tally[form][\"verb_tenses\"][vt + \"_count\"] = 0\n",
    "            attribute_tally[form][\"verb_tenses\"][vt + \"_count\"] += 1\n",
    "        \n",
    "        # Add rare words to tally\n",
    "        if F.freq_lex.v(w) < 10:\n",
    "            attribute_tally[form][\"rare\"] += 1\n",
    "print(\"done\")"
   ]
  },
  {
   "cell_type": "code",
   "execution_count": 4,
   "metadata": {
    "collapsed": false
   },
   "outputs": [
    {
     "data": {
      "text/html": [
       "\n",
       "<table>\n",
       "    <thead>\n",
       "        <tr><td rowspan=2></td><td colspan=2><b>Poetry</b></td><td colspan=2><b>Prose</b></td></tr>\n",
       "        <tr><td>count</td><td>%</td><td>count</td><td>%</td></tr>\n",
       "    </thead>\n",
       "    <tbody>\n",
       "<tr><td>words</td><td>36395</td><td>100.0</td><td>145301</td><td>100.0</td></tr>\n",
       "<tr><td>rare</td><td>1902</td><td>5.23</td><td>4011</td><td>2.76</td></tr>\n",
       "<tr><td>verb_count</td><td>8196</td><td>22.52</td><td>23907</td><td>16.45</td></tr>\n",
       "<tr><td>conj_count</td><td>3925</td><td>10.78</td><td>22749</td><td>15.66</td></tr>\n",
       "<tr><td>subs_count</td><td>12501</td><td>34.35</td><td>39744</td><td>27.35</td></tr>\n",
       "<tr><td>nmpr_count</td><td>1513</td><td>4.16</td><td>11062</td><td>7.61</td></tr>\n",
       "<tr><td>prep_count</td><td>5785</td><td>15.9</td><td>26122</td><td>17.98</td></tr>\n",
       "<tr><td>prps_count</td><td>397</td><td>1.09</td><td>1768</td><td>1.22</td></tr>\n",
       "<tr><td>art_count</td><td>1023</td><td>2.81</td><td>11662</td><td>8.03</td></tr>\n",
       "<tr><td>nega_count</td><td>753</td><td>2.07</td><td>1789</td><td>1.23</td></tr>\n",
       "<tr><td>advb_count</td><td>308</td><td>0.85</td><td>1396</td><td>0.96</td></tr>\n",
       "<tr><td>adjv_count</td><td>1538</td><td>4.23</td><td>2857</td><td>1.97</td></tr>\n",
       "<tr><td>prin_count</td><td>136</td><td>0.37</td><td>246</td><td>0.17</td></tr>\n",
       "<tr><td>prde_count</td><td>64</td><td>0.18</td><td>1009</td><td>0.69</td></tr>\n",
       "<tr><td>intj_count</td><td>155</td><td>0.43</td><td>618</td><td>0.43</td></tr>\n",
       "<tr><td>inrg_count</td><td>101</td><td>0.28</td><td>372</td><td>0.26</td></tr>\n",
       "<tr><td>vt_impv_count</td><td>863</td><td>2.37</td><td>1100</td><td>0.76</td></tr>\n",
       "<tr><td>vt_impf_count</td><td>3039</td><td>8.35</td><td>4766</td><td>3.28</td></tr>\n",
       "<tr><td>vt_perf_count</td><td>1704</td><td>4.68</td><td>3755</td><td>2.58</td></tr>\n",
       "<tr><td>vt_ptcp_count</td><td>150</td><td>0.41</td><td>410</td><td>0.28</td></tr>\n",
       "<tr><td>vt_ptca_count</td><td>1428</td><td>3.92</td><td>1971</td><td>1.36</td></tr>\n",
       "<tr><td>vt_wayq_count</td><td>415</td><td>1.14</td><td>6509</td><td>4.48</td></tr>\n",
       "<tr><td>vt_infc_count</td><td>431</td><td>1.18</td><td>2343</td><td>1.61</td></tr>\n",
       "<tr><td>vt_infa_count</td><td>39</td><td>0.11</td><td>335</td><td>0.23</td></tr>\n",
       "<tr><td>vt_weqt_count</td><td>127</td><td>0.35</td><td>2718</td><td>1.87</td></tr>\n",
       "\n",
       "    </tbody>\n",
       "</table>\n"
      ],
      "text/plain": [
       "<IPython.core.display.HTML object>"
      ]
     },
     "execution_count": 4,
     "metadata": {},
     "output_type": "execute_result"
    }
   ],
   "source": [
    "# Create a nice table to compare\n",
    "from IPython.display import HTML\n",
    "\n",
    "import copy\n",
    "flat_tally = copy.deepcopy(attribute_tally)\n",
    "del flat_tally[\"poetry\"][\"verb_tenses\"]\n",
    "del flat_tally[\"prose\"][\"verb_tenses\"]\n",
    "for x in attribute_tally[\"poetry\"][\"verb_tenses\"]:\n",
    "    flat_tally[\"poetry\"][\"vt_\" + x] = attribute_tally[\"poetry\"][\"verb_tenses\"][x]\n",
    "    flat_tally[\"prose\"][\"vt_\" + x] = attribute_tally[\"prose\"][\"verb_tenses\"][x]\n",
    "    \n",
    "rows = \"\"\n",
    "for x in flat_tally[\"poetry\"]:\n",
    "    row_data = [\n",
    "        x,\n",
    "        str(flat_tally[\"poetry\"][x]),\n",
    "        str(round((flat_tally[\"poetry\"][x] / flat_tally[\"poetry\"][\"words\"]) * 100, 2)),\n",
    "        str(flat_tally[\"prose\"][x]),\n",
    "        str(round((flat_tally[\"prose\"][x] / flat_tally[\"prose\"][\"words\"]) * 100, 2)),\n",
    "    ]\n",
    "    rows += \"<tr><td>\" + \"</td><td>\".join(row_data) + \"</td></tr>\\n\"\n",
    "\n",
    "HTML(\"\"\"\n",
    "<table>\n",
    "    <thead>\n",
    "        <tr><td rowspan=2></td><td colspan=2><b>Poetry</b></td><td colspan=2><b>Prose</b></td></tr>\n",
    "        <tr><td>count</td><td>%</td><td>count</td><td>%</td></tr>\n",
    "    </thead>\n",
    "    <tbody>\n",
    "\"\"\" + rows + \"\"\"\n",
    "    </tbody>\n",
    "</table>\n",
    "\"\"\")"
   ]
  },
  {
   "cell_type": "markdown",
   "metadata": {},
   "source": [
    "Now we're going to compare prose and poetry at a clause level"
   ]
  },
  {
   "cell_type": "code",
   "execution_count": 8,
   "metadata": {
    "collapsed": false
   },
   "outputs": [
    {
     "name": "stdout",
     "output_type": "stream",
     "text": [
      "25000\n",
      "50000\n",
      "75000\n"
     ]
    }
   ],
   "source": [
    "clause_tally = {\n",
    "    \"poetry\": {\n",
    "        \"count\": 0\n",
    "    },\n",
    "    \"prose\": {\n",
    "        \"count\": 0\n",
    "    }\n",
    "}\n",
    "progress = 0\n",
    "for c in F.otype.s('clause'):\n",
    "    progress += 1\n",
    "    if progress % 25000 == 0:\n",
    "        print(progress)\n",
    "    if inScope(c):\n",
    "        form = \"poetry\" if isPoetry(c) else \"prose\"\n",
    "        clause_tally[form][\"count\"] += 1\n",
    "        \n",
    "        # Add to kind tally\n",
    "        kind = \"kind_\" + F.kind.v(c)\n",
    "        if kind + \"_count\" not in clause_tally[form]:\n",
    "            clause_tally[form][kind + \"_count\"] = 0\n",
    "        clause_tally[form][kind + \"_count\"] += 1\n",
    "        \n",
    "        # Add to rela tally\n",
    "        rela = \"rela_\" + F.rela.v(c)\n",
    "        if rela + \"_count\" not in clause_tally[form]:\n",
    "            clause_tally[form][rela + \"_count\"] = 0\n",
    "        clause_tally[form][rela + \"_count\"] += 1"
   ]
  },
  {
   "cell_type": "code",
   "execution_count": 14,
   "metadata": {
    "collapsed": false
   },
   "outputs": [
    {
     "data": {
      "text/html": [
       "\n",
       "<table>\n",
       "    <thead>\n",
       "        <tr><td rowspan=2></td><td colspan=2><b>Poetry</b></td><td colspan=2><b>Prose</b></td></tr>\n",
       "        <tr><td>count</td><td>%</td><td>count</td><td>%</td></tr>\n",
       "    </thead>\n",
       "    <tbody>\n",
       "<tr><td>count</td><td>10288</td><td>100.0</td><td>27761</td><td>100.0</td></tr>\n",
       "<tr><td>Verbal Clause</td><td>7329</td><td>71.2</td><td>22553</td><td>81.2</td></tr>\n",
       "<tr><td>rela_NA_count</td><td>8146</td><td>79.2</td><td>20875</td><td>75.2</td></tr>\n",
       "<tr><td>Clause w/o Predication</td><td>1184</td><td>11.5</td><td>1508</td><td>5.4</td></tr>\n",
       "<tr><td>Nominal Clause</td><td>1775</td><td>17.3</td><td>3700</td><td>13.3</td></tr>\n",
       "<tr><td>Referral to the vocative</td><td>113</td><td>1.1</td><td>21</td><td>0.1</td></tr>\n",
       "<tr><td>Coordinated clause</td><td>810</td><td>7.9</td><td>775</td><td>2.8</td></tr>\n",
       "<tr><td>Attributive clause</td><td>394</td><td>3.8</td><td>2292</td><td>8.3</td></tr>\n",
       "<tr><td>Complement clause</td><td>32</td><td>0.3</td><td>89</td><td>0.3</td></tr>\n",
       "<tr><td>Resumptive clause</td><td>149</td><td>1.4</td><td>486</td><td>1.8</td></tr>\n",
       "<tr><td>Adjunctive Clause</td><td>318</td><td>3.1</td><td>2448</td><td>8.8</td></tr>\n",
       "<tr><td>Object clause</td><td>90</td><td>0.9</td><td>435</td><td>1.6</td></tr>\n",
       "<tr><td>Regens/rectum connection</td><td>45</td><td>0.4</td><td>138</td><td>0.5</td></tr>\n",
       "<tr><td>Subject clause</td><td>159</td><td>1.5</td><td>123</td><td>0.4</td></tr>\n",
       "<tr><td>Predicative complement clause</td><td>23</td><td>0.2</td><td>51</td><td>0.2</td></tr>\n",
       "<tr><td>Specification clause</td><td>9</td><td>0.1</td><td>27</td><td>0.1</td></tr>\n",
       "\n",
       "    </tbody>\n",
       "</table>\n"
      ],
      "text/plain": [
       "<IPython.core.display.HTML object>"
      ]
     },
     "execution_count": 14,
     "metadata": {},
     "output_type": "execute_result"
    }
   ],
   "source": [
    "english_rows = {\n",
    "    \"kind_VC_count\": \"Verbal Clause\",\n",
    "    \"kind_WP_count\": \"Clause w/o Predication\",\n",
    "    \"kind_NC_count\": \"Nominal Clause\",\n",
    "    \"rela_ReVo_count\": \"Referral to the vocative\",\n",
    "    \"rela_Coor_count\": \"Coordinated clause\",\n",
    "    \"rela_Attr_count\": \"Attributive clause\",\n",
    "    \"rela_Cmpl_count\": \"Complement clause\",\n",
    "    \"rela_Resu_count\": \"Resumptive clause\",\n",
    "    \"rela_Adju_count\": \"Adjunctive Clause\",\n",
    "    \"rela_Objc_count\": \"Object clause\",\n",
    "    \"rela_RgRc_count\": \"Regens/rectum connection\",\n",
    "    \"rela_Subj_count\": \"Subject clause\",\n",
    "    \"rela_PreC_count\": \"Predicative complement clause\",\n",
    "    \"rela_Spec_count\": \"Specification clause\",\n",
    "}\n",
    "rows = \"\"\n",
    "for x in clause_tally[\"poetry\"]:\n",
    "    row_title = english_rows[x] if x in english_rows else x\n",
    "    row_data = [\n",
    "        row_title,\n",
    "        str(clause_tally[\"poetry\"][x]),\n",
    "        str(round((clause_tally[\"poetry\"][x] / clause_tally[\"poetry\"][\"count\"]) * 100, 1)),\n",
    "        str(clause_tally[\"prose\"][x]),\n",
    "        str(round((clause_tally[\"prose\"][x] / clause_tally[\"prose\"][\"count\"]) * 100, 1)),\n",
    "    ]\n",
    "    rows += \"<tr><td>\" + \"</td><td>\".join(row_data) + \"</td></tr>\\n\"\n",
    "\n",
    "HTML(\"\"\"\n",
    "<table>\n",
    "    <thead>\n",
    "        <tr><td rowspan=2></td><td colspan=2><b>Poetry</b></td><td colspan=2><b>Prose</b></td></tr>\n",
    "        <tr><td>count</td><td>%</td><td>count</td><td>%</td></tr>\n",
    "    </thead>\n",
    "    <tbody>\n",
    "\"\"\" + rows + \"\"\"\n",
    "    </tbody>\n",
    "</table>\n",
    "\"\"\")"
   ]
  },
  {
   "cell_type": "code",
   "execution_count": null,
   "metadata": {
    "collapsed": true
   },
   "outputs": [],
   "source": []
  }
 ],
 "metadata": {
  "kernelspec": {
   "display_name": "Python 3",
   "language": "python",
   "name": "python3"
  },
  "language_info": {
   "codemirror_mode": {
    "name": "ipython",
    "version": 3
   },
   "file_extension": ".py",
   "mimetype": "text/x-python",
   "name": "python",
   "nbconvert_exporter": "python",
   "pygments_lexer": "ipython3",
   "version": "3.6.2"
  }
 },
 "nbformat": 4,
 "nbformat_minor": 2
}
